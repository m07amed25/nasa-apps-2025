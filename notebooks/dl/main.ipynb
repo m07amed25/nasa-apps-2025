{
 "cells": [
  {
   "cell_type": "code",
   "execution_count": 1,
   "id": "b4c3a3af",
   "metadata": {},
   "outputs": [],
   "source": [
    "import torch\n",
    "import torch.nn as nn\n",
    "import torch.optim as optim\n",
    "\n",
    "from sklearn.datasets import load_iris\n",
    "from sklearn.model_selection import train_test_split\n",
    "from sklearn.preprocessing import StandardScaler\n",
    "from sklearn.metrics import accuracy_score\n",
    "from sklearn.utils import resample\n",
    "from sklearn.preprocessing import LabelEncoder\n",
    "from sklearn.utils.class_weight import compute_class_weight\n",
    "\n",
    "import numpy as np\n",
    "import pandas as pd\n",
    "import matplotlib.pyplot as plt"
   ]
  },
  {
   "cell_type": "code",
   "execution_count": 2,
   "id": "aff92455",
   "metadata": {},
   "outputs": [
    {
     "data": {
      "text/html": [
       "<div>\n",
       "<style scoped>\n",
       "    .dataframe tbody tr th:only-of-type {\n",
       "        vertical-align: middle;\n",
       "    }\n",
       "\n",
       "    .dataframe tbody tr th {\n",
       "        vertical-align: top;\n",
       "    }\n",
       "\n",
       "    .dataframe thead th {\n",
       "        text-align: right;\n",
       "    }\n",
       "</style>\n",
       "<table border=\"1\" class=\"dataframe\">\n",
       "  <thead>\n",
       "    <tr style=\"text-align: right;\">\n",
       "      <th></th>\n",
       "      <th>kepid</th>\n",
       "      <th>kepoi_name</th>\n",
       "      <th>koi_disposition</th>\n",
       "      <th>koi_score</th>\n",
       "      <th>koi_period</th>\n",
       "      <th>koi_duration</th>\n",
       "      <th>koi_depth</th>\n",
       "      <th>koi_time0bk</th>\n",
       "      <th>koi_prad</th>\n",
       "      <th>koi_ror</th>\n",
       "      <th>...</th>\n",
       "      <th>koi_period_err1</th>\n",
       "      <th>koi_period_err2</th>\n",
       "      <th>koi_duration_err1</th>\n",
       "      <th>koi_duration_err2</th>\n",
       "      <th>koi_depth_err1</th>\n",
       "      <th>koi_depth_err2</th>\n",
       "      <th>koi_prad_err1</th>\n",
       "      <th>koi_prad_err2</th>\n",
       "      <th>koi_steff_err1</th>\n",
       "      <th>koi_steff_err2</th>\n",
       "    </tr>\n",
       "  </thead>\n",
       "  <tbody>\n",
       "    <tr>\n",
       "      <th>0</th>\n",
       "      <td>10797460</td>\n",
       "      <td>K00752.01</td>\n",
       "      <td>CONFIRMED</td>\n",
       "      <td>1.000</td>\n",
       "      <td>9.488036</td>\n",
       "      <td>2.95750</td>\n",
       "      <td>615.8</td>\n",
       "      <td>170.538750</td>\n",
       "      <td>2.26</td>\n",
       "      <td>0.022344</td>\n",
       "      <td>...</td>\n",
       "      <td>2.775000e-05</td>\n",
       "      <td>-2.775000e-05</td>\n",
       "      <td>0.08190</td>\n",
       "      <td>-0.08190</td>\n",
       "      <td>19.5</td>\n",
       "      <td>-19.5</td>\n",
       "      <td>0.26</td>\n",
       "      <td>-0.15</td>\n",
       "      <td>81.0</td>\n",
       "      <td>-81.0</td>\n",
       "    </tr>\n",
       "    <tr>\n",
       "      <th>1</th>\n",
       "      <td>10797460</td>\n",
       "      <td>K00752.02</td>\n",
       "      <td>CONFIRMED</td>\n",
       "      <td>0.969</td>\n",
       "      <td>54.418383</td>\n",
       "      <td>4.50700</td>\n",
       "      <td>874.8</td>\n",
       "      <td>162.513840</td>\n",
       "      <td>2.83</td>\n",
       "      <td>0.027954</td>\n",
       "      <td>...</td>\n",
       "      <td>2.479000e-04</td>\n",
       "      <td>-2.479000e-04</td>\n",
       "      <td>0.11600</td>\n",
       "      <td>-0.11600</td>\n",
       "      <td>35.5</td>\n",
       "      <td>-35.5</td>\n",
       "      <td>0.32</td>\n",
       "      <td>-0.19</td>\n",
       "      <td>81.0</td>\n",
       "      <td>-81.0</td>\n",
       "    </tr>\n",
       "    <tr>\n",
       "      <th>2</th>\n",
       "      <td>10811496</td>\n",
       "      <td>K00753.01</td>\n",
       "      <td>CANDIDATE</td>\n",
       "      <td>0.000</td>\n",
       "      <td>19.899140</td>\n",
       "      <td>1.78220</td>\n",
       "      <td>10829.0</td>\n",
       "      <td>175.850252</td>\n",
       "      <td>14.60</td>\n",
       "      <td>0.154046</td>\n",
       "      <td>...</td>\n",
       "      <td>1.494000e-05</td>\n",
       "      <td>-1.494000e-05</td>\n",
       "      <td>0.03410</td>\n",
       "      <td>-0.03410</td>\n",
       "      <td>171.0</td>\n",
       "      <td>-171.0</td>\n",
       "      <td>3.92</td>\n",
       "      <td>-1.31</td>\n",
       "      <td>158.0</td>\n",
       "      <td>-176.0</td>\n",
       "    </tr>\n",
       "    <tr>\n",
       "      <th>3</th>\n",
       "      <td>10848459</td>\n",
       "      <td>K00754.01</td>\n",
       "      <td>FALSE POSITIVE</td>\n",
       "      <td>0.000</td>\n",
       "      <td>1.736952</td>\n",
       "      <td>2.40641</td>\n",
       "      <td>8079.2</td>\n",
       "      <td>170.307565</td>\n",
       "      <td>33.46</td>\n",
       "      <td>0.387394</td>\n",
       "      <td>...</td>\n",
       "      <td>2.630000e-07</td>\n",
       "      <td>-2.630000e-07</td>\n",
       "      <td>0.00537</td>\n",
       "      <td>-0.00537</td>\n",
       "      <td>12.8</td>\n",
       "      <td>-12.8</td>\n",
       "      <td>8.50</td>\n",
       "      <td>-2.83</td>\n",
       "      <td>157.0</td>\n",
       "      <td>-174.0</td>\n",
       "    </tr>\n",
       "    <tr>\n",
       "      <th>4</th>\n",
       "      <td>10854555</td>\n",
       "      <td>K00755.01</td>\n",
       "      <td>CONFIRMED</td>\n",
       "      <td>1.000</td>\n",
       "      <td>2.525592</td>\n",
       "      <td>1.65450</td>\n",
       "      <td>603.3</td>\n",
       "      <td>171.595550</td>\n",
       "      <td>2.75</td>\n",
       "      <td>0.024064</td>\n",
       "      <td>...</td>\n",
       "      <td>3.761000e-06</td>\n",
       "      <td>-3.761000e-06</td>\n",
       "      <td>0.04200</td>\n",
       "      <td>-0.04200</td>\n",
       "      <td>16.9</td>\n",
       "      <td>-16.9</td>\n",
       "      <td>0.88</td>\n",
       "      <td>-0.35</td>\n",
       "      <td>169.0</td>\n",
       "      <td>-211.0</td>\n",
       "    </tr>\n",
       "  </tbody>\n",
       "</table>\n",
       "<p>5 rows × 36 columns</p>\n",
       "</div>"
      ],
      "text/plain": [
       "      kepid kepoi_name koi_disposition  koi_score  koi_period  koi_duration  \\\n",
       "0  10797460  K00752.01       CONFIRMED      1.000    9.488036       2.95750   \n",
       "1  10797460  K00752.02       CONFIRMED      0.969   54.418383       4.50700   \n",
       "2  10811496  K00753.01       CANDIDATE      0.000   19.899140       1.78220   \n",
       "3  10848459  K00754.01  FALSE POSITIVE      0.000    1.736952       2.40641   \n",
       "4  10854555  K00755.01       CONFIRMED      1.000    2.525592       1.65450   \n",
       "\n",
       "   koi_depth  koi_time0bk  koi_prad   koi_ror  ...  koi_period_err1  \\\n",
       "0      615.8   170.538750      2.26  0.022344  ...     2.775000e-05   \n",
       "1      874.8   162.513840      2.83  0.027954  ...     2.479000e-04   \n",
       "2    10829.0   175.850252     14.60  0.154046  ...     1.494000e-05   \n",
       "3     8079.2   170.307565     33.46  0.387394  ...     2.630000e-07   \n",
       "4      603.3   171.595550      2.75  0.024064  ...     3.761000e-06   \n",
       "\n",
       "   koi_period_err2  koi_duration_err1  koi_duration_err2  koi_depth_err1  \\\n",
       "0    -2.775000e-05            0.08190           -0.08190            19.5   \n",
       "1    -2.479000e-04            0.11600           -0.11600            35.5   \n",
       "2    -1.494000e-05            0.03410           -0.03410           171.0   \n",
       "3    -2.630000e-07            0.00537           -0.00537            12.8   \n",
       "4    -3.761000e-06            0.04200           -0.04200            16.9   \n",
       "\n",
       "   koi_depth_err2  koi_prad_err1  koi_prad_err2  koi_steff_err1  \\\n",
       "0           -19.5           0.26          -0.15            81.0   \n",
       "1           -35.5           0.32          -0.19            81.0   \n",
       "2          -171.0           3.92          -1.31           158.0   \n",
       "3           -12.8           8.50          -2.83           157.0   \n",
       "4           -16.9           0.88          -0.35           169.0   \n",
       "\n",
       "   koi_steff_err2  \n",
       "0           -81.0  \n",
       "1           -81.0  \n",
       "2          -176.0  \n",
       "3          -174.0  \n",
       "4          -211.0  \n",
       "\n",
       "[5 rows x 36 columns]"
      ]
     },
     "execution_count": 2,
     "metadata": {},
     "output_type": "execute_result"
    }
   ],
   "source": [
    "df = pd.read_csv(r\"H:\\Nasa Space Apps 2025\\data\\cleaned_data.csv\")\n",
    "df.head()"
   ]
  },
  {
   "cell_type": "code",
   "execution_count": 3,
   "id": "654a384e",
   "metadata": {},
   "outputs": [
    {
     "data": {
      "text/plain": [
       "koi_disposition\n",
       "FALSE POSITIVE    4839\n",
       "CONFIRMED         2746\n",
       "CANDIDATE         1979\n",
       "Name: count, dtype: int64"
      ]
     },
     "execution_count": 3,
     "metadata": {},
     "output_type": "execute_result"
    }
   ],
   "source": [
    "# Keep all three classes - don't merge FALSE POSITIVE\n",
    "# df['koi_disposition'] = df['koi_disposition'].replace('FALSE POSITIVE', 'CANDIDATE')\n",
    "df['koi_disposition'].value_counts()"
   ]
  },
  {
   "cell_type": "code",
   "execution_count": 4,
   "id": "bbc5d7cb",
   "metadata": {},
   "outputs": [
    {
     "data": {
      "text/html": [
       "<div>\n",
       "<style scoped>\n",
       "    .dataframe tbody tr th:only-of-type {\n",
       "        vertical-align: middle;\n",
       "    }\n",
       "\n",
       "    .dataframe tbody tr th {\n",
       "        vertical-align: top;\n",
       "    }\n",
       "\n",
       "    .dataframe thead th {\n",
       "        text-align: right;\n",
       "    }\n",
       "</style>\n",
       "<table border=\"1\" class=\"dataframe\">\n",
       "  <thead>\n",
       "    <tr style=\"text-align: right;\">\n",
       "      <th></th>\n",
       "      <th>koi_disposition</th>\n",
       "      <th>koi_score</th>\n",
       "      <th>koi_period</th>\n",
       "      <th>koi_duration</th>\n",
       "      <th>koi_depth</th>\n",
       "      <th>koi_time0bk</th>\n",
       "      <th>koi_prad</th>\n",
       "      <th>koi_ror</th>\n",
       "      <th>koi_dor</th>\n",
       "      <th>koi_impact</th>\n",
       "      <th>...</th>\n",
       "      <th>koi_period_err1</th>\n",
       "      <th>koi_period_err2</th>\n",
       "      <th>koi_duration_err1</th>\n",
       "      <th>koi_duration_err2</th>\n",
       "      <th>koi_depth_err1</th>\n",
       "      <th>koi_depth_err2</th>\n",
       "      <th>koi_prad_err1</th>\n",
       "      <th>koi_prad_err2</th>\n",
       "      <th>koi_steff_err1</th>\n",
       "      <th>koi_steff_err2</th>\n",
       "    </tr>\n",
       "  </thead>\n",
       "  <tbody>\n",
       "    <tr>\n",
       "      <th>0</th>\n",
       "      <td>CONFIRMED</td>\n",
       "      <td>1.000</td>\n",
       "      <td>9.488036</td>\n",
       "      <td>2.95750</td>\n",
       "      <td>615.8</td>\n",
       "      <td>170.538750</td>\n",
       "      <td>2.26</td>\n",
       "      <td>0.022344</td>\n",
       "      <td>24.810</td>\n",
       "      <td>0.146</td>\n",
       "      <td>...</td>\n",
       "      <td>2.775000e-05</td>\n",
       "      <td>-2.775000e-05</td>\n",
       "      <td>0.08190</td>\n",
       "      <td>-0.08190</td>\n",
       "      <td>19.5</td>\n",
       "      <td>-19.5</td>\n",
       "      <td>0.26</td>\n",
       "      <td>-0.15</td>\n",
       "      <td>81.0</td>\n",
       "      <td>-81.0</td>\n",
       "    </tr>\n",
       "    <tr>\n",
       "      <th>1</th>\n",
       "      <td>CONFIRMED</td>\n",
       "      <td>0.969</td>\n",
       "      <td>54.418383</td>\n",
       "      <td>4.50700</td>\n",
       "      <td>874.8</td>\n",
       "      <td>162.513840</td>\n",
       "      <td>2.83</td>\n",
       "      <td>0.027954</td>\n",
       "      <td>77.900</td>\n",
       "      <td>0.586</td>\n",
       "      <td>...</td>\n",
       "      <td>2.479000e-04</td>\n",
       "      <td>-2.479000e-04</td>\n",
       "      <td>0.11600</td>\n",
       "      <td>-0.11600</td>\n",
       "      <td>35.5</td>\n",
       "      <td>-35.5</td>\n",
       "      <td>0.32</td>\n",
       "      <td>-0.19</td>\n",
       "      <td>81.0</td>\n",
       "      <td>-81.0</td>\n",
       "    </tr>\n",
       "    <tr>\n",
       "      <th>2</th>\n",
       "      <td>CANDIDATE</td>\n",
       "      <td>0.000</td>\n",
       "      <td>19.899140</td>\n",
       "      <td>1.78220</td>\n",
       "      <td>10829.0</td>\n",
       "      <td>175.850252</td>\n",
       "      <td>14.60</td>\n",
       "      <td>0.154046</td>\n",
       "      <td>53.500</td>\n",
       "      <td>0.969</td>\n",
       "      <td>...</td>\n",
       "      <td>1.494000e-05</td>\n",
       "      <td>-1.494000e-05</td>\n",
       "      <td>0.03410</td>\n",
       "      <td>-0.03410</td>\n",
       "      <td>171.0</td>\n",
       "      <td>-171.0</td>\n",
       "      <td>3.92</td>\n",
       "      <td>-1.31</td>\n",
       "      <td>158.0</td>\n",
       "      <td>-176.0</td>\n",
       "    </tr>\n",
       "    <tr>\n",
       "      <th>3</th>\n",
       "      <td>FALSE POSITIVE</td>\n",
       "      <td>0.000</td>\n",
       "      <td>1.736952</td>\n",
       "      <td>2.40641</td>\n",
       "      <td>8079.2</td>\n",
       "      <td>170.307565</td>\n",
       "      <td>33.46</td>\n",
       "      <td>0.387394</td>\n",
       "      <td>3.278</td>\n",
       "      <td>1.276</td>\n",
       "      <td>...</td>\n",
       "      <td>2.630000e-07</td>\n",
       "      <td>-2.630000e-07</td>\n",
       "      <td>0.00537</td>\n",
       "      <td>-0.00537</td>\n",
       "      <td>12.8</td>\n",
       "      <td>-12.8</td>\n",
       "      <td>8.50</td>\n",
       "      <td>-2.83</td>\n",
       "      <td>157.0</td>\n",
       "      <td>-174.0</td>\n",
       "    </tr>\n",
       "    <tr>\n",
       "      <th>4</th>\n",
       "      <td>CONFIRMED</td>\n",
       "      <td>1.000</td>\n",
       "      <td>2.525592</td>\n",
       "      <td>1.65450</td>\n",
       "      <td>603.3</td>\n",
       "      <td>171.595550</td>\n",
       "      <td>2.75</td>\n",
       "      <td>0.024064</td>\n",
       "      <td>8.750</td>\n",
       "      <td>0.701</td>\n",
       "      <td>...</td>\n",
       "      <td>3.761000e-06</td>\n",
       "      <td>-3.761000e-06</td>\n",
       "      <td>0.04200</td>\n",
       "      <td>-0.04200</td>\n",
       "      <td>16.9</td>\n",
       "      <td>-16.9</td>\n",
       "      <td>0.88</td>\n",
       "      <td>-0.35</td>\n",
       "      <td>169.0</td>\n",
       "      <td>-211.0</td>\n",
       "    </tr>\n",
       "  </tbody>\n",
       "</table>\n",
       "<p>5 rows × 34 columns</p>\n",
       "</div>"
      ],
      "text/plain": [
       "  koi_disposition  koi_score  koi_period  koi_duration  koi_depth  \\\n",
       "0       CONFIRMED      1.000    9.488036       2.95750      615.8   \n",
       "1       CONFIRMED      0.969   54.418383       4.50700      874.8   \n",
       "2       CANDIDATE      0.000   19.899140       1.78220    10829.0   \n",
       "3  FALSE POSITIVE      0.000    1.736952       2.40641     8079.2   \n",
       "4       CONFIRMED      1.000    2.525592       1.65450      603.3   \n",
       "\n",
       "   koi_time0bk  koi_prad   koi_ror  koi_dor  koi_impact  ...  koi_period_err1  \\\n",
       "0   170.538750      2.26  0.022344   24.810       0.146  ...     2.775000e-05   \n",
       "1   162.513840      2.83  0.027954   77.900       0.586  ...     2.479000e-04   \n",
       "2   175.850252     14.60  0.154046   53.500       0.969  ...     1.494000e-05   \n",
       "3   170.307565     33.46  0.387394    3.278       1.276  ...     2.630000e-07   \n",
       "4   171.595550      2.75  0.024064    8.750       0.701  ...     3.761000e-06   \n",
       "\n",
       "   koi_period_err2  koi_duration_err1  koi_duration_err2  koi_depth_err1  \\\n",
       "0    -2.775000e-05            0.08190           -0.08190            19.5   \n",
       "1    -2.479000e-04            0.11600           -0.11600            35.5   \n",
       "2    -1.494000e-05            0.03410           -0.03410           171.0   \n",
       "3    -2.630000e-07            0.00537           -0.00537            12.8   \n",
       "4    -3.761000e-06            0.04200           -0.04200            16.9   \n",
       "\n",
       "   koi_depth_err2  koi_prad_err1  koi_prad_err2  koi_steff_err1  \\\n",
       "0           -19.5           0.26          -0.15            81.0   \n",
       "1           -35.5           0.32          -0.19            81.0   \n",
       "2          -171.0           3.92          -1.31           158.0   \n",
       "3           -12.8           8.50          -2.83           157.0   \n",
       "4           -16.9           0.88          -0.35           169.0   \n",
       "\n",
       "   koi_steff_err2  \n",
       "0           -81.0  \n",
       "1           -81.0  \n",
       "2          -176.0  \n",
       "3          -174.0  \n",
       "4          -211.0  \n",
       "\n",
       "[5 rows x 34 columns]"
      ]
     },
     "execution_count": 4,
     "metadata": {},
     "output_type": "execute_result"
    }
   ],
   "source": [
    "df = df.drop(columns=['kepoi_name','kepid'])\n",
    "df.head()"
   ]
  },
  {
   "cell_type": "code",
   "execution_count": 5,
   "id": "804046da",
   "metadata": {},
   "outputs": [
    {
     "data": {
      "text/plain": [
       "Index(['koi_disposition', 'koi_score', 'koi_period', 'koi_duration',\n",
       "       'koi_depth', 'koi_time0bk', 'koi_prad', 'koi_ror', 'koi_dor',\n",
       "       'koi_impact', 'koi_incl', 'koi_srad', 'koi_smass', 'koi_steff',\n",
       "       'koi_slogg', 'koi_smet', 'koi_kepmag', 'koi_fpflag_nt', 'koi_fpflag_ss',\n",
       "       'koi_fpflag_co', 'koi_fpflag_ec', 'koi_vet_stat', 'koi_vet_date',\n",
       "       'koi_disp_prov', 'koi_period_err1', 'koi_period_err2',\n",
       "       'koi_duration_err1', 'koi_duration_err2', 'koi_depth_err1',\n",
       "       'koi_depth_err2', 'koi_prad_err1', 'koi_prad_err2', 'koi_steff_err1',\n",
       "       'koi_steff_err2'],\n",
       "      dtype='object')"
      ]
     },
     "execution_count": 5,
     "metadata": {},
     "output_type": "execute_result"
    }
   ],
   "source": [
    "df.columns"
   ]
  },
  {
   "cell_type": "code",
   "execution_count": 6,
   "id": "798e4933",
   "metadata": {},
   "outputs": [
    {
     "name": "stdout",
     "output_type": "stream",
     "text": [
      "Original class distribution:\n",
      "koi_disposition\n",
      "FALSE POSITIVE    4839\n",
      "CONFIRMED         2746\n",
      "CANDIDATE         1979\n",
      "Name: count, dtype: int64\n",
      "Total samples: 9564\n"
     ]
    }
   ],
   "source": [
    "X = df.drop(columns=['koi_disposition', 'koi_vet_stat', 'koi_vet_date', 'koi_disp_prov'])\n",
    "y = df['koi_disposition']\n",
    "\n",
    "print(\"Original class distribution:\")\n",
    "print(y.value_counts())\n",
    "print(f\"Total samples: {len(y)}\")"
   ]
  },
  {
   "cell_type": "code",
   "execution_count": 7,
   "id": "2958c9d3",
   "metadata": {},
   "outputs": [
    {
     "name": "stdout",
     "output_type": "stream",
     "text": [
      "Original class sizes:\n",
      "CANDIDATE: 1979\n",
      "CONFIRMED: 2746\n",
      "FALSE POSITIVE: 4839\n",
      "\n",
      "Downsampling all classes to: 1979\n",
      "\n",
      "Balanced class distribution:\n",
      "koi_disposition\n",
      "CANDIDATE         1979\n",
      "CONFIRMED         1979\n",
      "FALSE POSITIVE    1979\n",
      "Name: count, dtype: int64\n"
     ]
    }
   ],
   "source": [
    "df_combined = pd.concat([X, y], axis=1)\n",
    "\n",
    "df_candidate = df_combined[df_combined.koi_disposition == 'CANDIDATE']\n",
    "df_confirmed = df_combined[df_combined.koi_disposition == 'CONFIRMED']\n",
    "df_false_positive = df_combined[df_combined.koi_disposition == 'FALSE POSITIVE']\n",
    "\n",
    "min_samples = min(len(df_candidate), len(df_confirmed), len(df_false_positive))\n",
    "\n",
    "print(f\"Original class sizes:\")\n",
    "print(f\"CANDIDATE: {len(df_candidate)}\")\n",
    "print(f\"CONFIRMED: {len(df_confirmed)}\")\n",
    "print(f\"FALSE POSITIVE: {len(df_false_positive)}\")\n",
    "print(f\"\\nDownsampling all classes to: {min_samples}\")\n",
    "\n",
    "df_candidate_downsampled = resample(df_candidate, \n",
    "                                    replace=False,\n",
    "                                    n_samples=min_samples,\n",
    "                                    random_state=42)\n",
    "\n",
    "df_confirmed_downsampled = resample(df_confirmed, \n",
    "                                    replace=False,\n",
    "                                    n_samples=min_samples,\n",
    "                                    random_state=42)\n",
    "\n",
    "df_false_positive_downsampled = resample(df_false_positive, \n",
    "                                         replace=False,\n",
    "                                         n_samples=min_samples,\n",
    "                                         random_state=42)\n",
    "\n",
    "df_balanced = pd.concat([df_candidate_downsampled, \n",
    "                        df_confirmed_downsampled, \n",
    "                        df_false_positive_downsampled])\n",
    "\n",
    "print(f\"\\nBalanced class distribution:\")\n",
    "print(df_balanced['koi_disposition'].value_counts())"
   ]
  },
  {
   "cell_type": "code",
   "execution_count": 8,
   "id": "321090c9",
   "metadata": {},
   "outputs": [
    {
     "name": "stdout",
     "output_type": "stream",
     "text": [
      "Features (X): (5937, 30)\n",
      "Target (y): (5937,)\n",
      "\n",
      "Classes:\n",
      "koi_disposition\n",
      "CANDIDATE         1979\n",
      "CONFIRMED         1979\n",
      "FALSE POSITIVE    1979\n",
      "Name: count, dtype: int64\n"
     ]
    }
   ],
   "source": [
    "X_balanced = df_balanced.drop(columns=['koi_disposition'])\n",
    "y_balanced = df_balanced['koi_disposition']\n",
    "\n",
    "print(f\"Features (X): {X_balanced.shape}\")\n",
    "print(f\"Target (y): {y_balanced.shape}\")\n",
    "print(f\"\\nClasses:\")\n",
    "print(y_balanced.value_counts())"
   ]
  },
  {
   "cell_type": "code",
   "execution_count": 9,
   "id": "9493c69f",
   "metadata": {},
   "outputs": [
    {
     "data": {
      "text/plain": [
       "4247    CANDIDATE\n",
       "1196    CANDIDATE\n",
       "6428    CANDIDATE\n",
       "8240    CANDIDATE\n",
       "7485    CANDIDATE\n",
       "Name: koi_disposition, dtype: object"
      ]
     },
     "execution_count": 9,
     "metadata": {},
     "output_type": "execute_result"
    }
   ],
   "source": [
    "y_balanced[:5]"
   ]
  },
  {
   "cell_type": "code",
   "execution_count": 10,
   "id": "f90d10c4",
   "metadata": {},
   "outputs": [
    {
     "name": "stdout",
     "output_type": "stream",
     "text": [
      "\n",
      "Original y_balanced: ['CANDIDATE' 'CANDIDATE' 'CANDIDATE' 'CANDIDATE' 'CANDIDATE' 'CANDIDATE'\n",
      " 'CANDIDATE' 'CANDIDATE' 'CANDIDATE' 'CANDIDATE']\n",
      "Encoded y_balance: [0 0 0 0 0 0 0 0 0 0]\n"
     ]
    }
   ],
   "source": [
    "label_encoder = LabelEncoder()\n",
    "y_balanced_encoded = label_encoder.fit_transform(y_balanced)\n",
    "\n",
    "print(f\"\\nOriginal y_balanced: {y_balanced[:10].values}\")\n",
    "print(f\"Encoded y_balance: {y_balanced_encoded[:10]}\")"
   ]
  },
  {
   "cell_type": "code",
   "execution_count": 11,
   "id": "b1e7f730",
   "metadata": {},
   "outputs": [
    {
     "data": {
      "text/plain": [
       "((4749, 30), (1188, 30), (4749,), (1188,))"
      ]
     },
     "execution_count": 11,
     "metadata": {},
     "output_type": "execute_result"
    }
   ],
   "source": [
    "X_train, X_test, y_train, y_test = train_test_split(X_balanced, y_balanced_encoded, test_size=0.2, random_state=42)\n",
    "\n",
    "X_train.shape, X_test.shape, y_train.shape, y_test.shape"
   ]
  },
  {
   "cell_type": "code",
   "execution_count": 12,
   "id": "44190091",
   "metadata": {},
   "outputs": [
    {
     "data": {
      "text/plain": [
       "array([[-0.97052229, -0.04929159, -0.6225659 , -0.26653742, -0.53905368,\n",
       "        -0.03760452, -0.07859937, -0.074544  , -0.16655624,  0.22149332,\n",
       "        -0.11780077, -0.03754722,  0.2230888 ,  0.52512161,  0.08151536,\n",
       "         0.72880479, -0.34380384,  2.3406952 , -0.38136779, -0.28032621,\n",
       "        -0.27625364,  0.27624187,  0.03993418, -0.03993451, -0.09695698,\n",
       "         0.09692897, -0.04337086,  0.03299279, -0.03202869, -0.25458724],\n",
       "       [-1.00206385,  0.23892281,  0.29203587, -0.2647369 ,  3.48067057,\n",
       "        -0.03689007, -0.0766976 ,  0.39389349, -0.08241234,  0.44002989,\n",
       "        -0.01378773,  0.31697198,  1.00421577, -0.47169851, -0.58554981,\n",
       "        -1.9869198 ,  2.90863531, -0.4272235 , -0.38136779, -0.28032621,\n",
       "         1.46636872, -1.4663803 ,  0.45000619, -0.45000651, -0.07876889,\n",
       "         0.07874084, -0.04079882,  0.03219585,  0.15939907, -0.49154766],\n",
       "       [-0.95009971,  0.15976587,  1.94160158, -0.24587546,  0.22064433,\n",
       "        -0.03661889, -0.06979828,  0.08818229, -0.18271238,  0.44002989,\n",
       "        -0.15714249, -0.89455886, -1.41017669,  0.78730607,  0.22975207,\n",
       "         1.20666645, -0.34380384, -0.4272235 , -0.38136779, -0.28032621,\n",
       "         3.09697889, -3.09699029,  1.63844128, -1.6384416 ,  0.10533002,\n",
       "        -0.10535845, -0.0431316 ,  0.03275733,  0.09558982,  0.31690554],\n",
       "       [ 0.6882458 , -0.02853197, -0.43228689, -0.25612621, -0.36384925,\n",
       "        -0.03102847, -0.02995168, -0.05228887,  0.13582119,  0.26552681,\n",
       "        -0.14205251, -0.64177125, -0.24111629,  0.64453235, -1.03025993,\n",
       "         0.9839094 , -0.34380384, -0.4272235 , -0.38136779, -0.28032621,\n",
       "        -0.22849347,  0.2284817 ,  0.05231371, -0.05231404,  0.02917666,\n",
       "        -0.02920493, -0.03610335,  0.03074687,  1.05272863, -0.47760881],\n",
       "       [ 0.97870041, -0.04270282, -0.36834953, -0.25249819,  0.05212085,\n",
       "        -0.03648852, -0.07134793, -0.05020623, -0.21244721,  0.44166076,\n",
       "        -0.12265112, -0.11153384,  0.08106571,  0.56665578,  0.15563371,\n",
       "         0.73689168, -0.34380384, -0.4272235 , -0.38136779, -0.28032621,\n",
       "        -0.2742266 ,  0.27421483, -0.44998581,  0.44998548, -0.06930517,\n",
       "         0.0692771 , -0.04319142,  0.03288412, -1.09551626,  0.28902784]])"
      ]
     },
     "execution_count": 12,
     "metadata": {},
     "output_type": "execute_result"
    }
   ],
   "source": [
    "scaler = StandardScaler()\n",
    "X_train = scaler.fit_transform(X_train)\n",
    "X_test = scaler.transform(X_test)\n",
    "\n",
    "X_train[:5]"
   ]
  },
  {
   "cell_type": "code",
   "execution_count": 13,
   "id": "b5f5bc54",
   "metadata": {},
   "outputs": [
    {
     "data": {
      "text/plain": [
       "'cuda'"
      ]
     },
     "execution_count": 13,
     "metadata": {},
     "output_type": "execute_result"
    }
   ],
   "source": [
    "device = 'cuda' if torch.cuda.is_available() else 'cpu'\n",
    "device"
   ]
  },
  {
   "cell_type": "code",
   "execution_count": 14,
   "id": "301c6372",
   "metadata": {},
   "outputs": [],
   "source": [
    "X_train_tensor = torch.tensor(X_train, dtype=torch.float32).to(device)\n",
    "X_test_tensor = torch.tensor(X_test, dtype=torch.float32).to(device)\n",
    "\n",
    "y_train_tensor = torch.tensor(y_train, dtype=torch.int64).to(device)\n",
    "y_test_tensor = torch.tensor(y_test, dtype=torch.int64).to(device)"
   ]
  },
  {
   "cell_type": "code",
   "execution_count": 15,
   "id": "95d546ce",
   "metadata": {},
   "outputs": [
    {
     "data": {
      "text/plain": [
       "(tensor([[-0.9705, -0.0493, -0.6226, -0.2665, -0.5391, -0.0376, -0.0786, -0.0745,\n",
       "          -0.1666,  0.2215, -0.1178, -0.0375,  0.2231,  0.5251,  0.0815,  0.7288,\n",
       "          -0.3438,  2.3407, -0.3814, -0.2803, -0.2763,  0.2762,  0.0399, -0.0399,\n",
       "          -0.0970,  0.0969, -0.0434,  0.0330, -0.0320, -0.2546],\n",
       "         [-1.0021,  0.2389,  0.2920, -0.2647,  3.4807, -0.0369, -0.0767,  0.3939,\n",
       "          -0.0824,  0.4400, -0.0138,  0.3170,  1.0042, -0.4717, -0.5855, -1.9869,\n",
       "           2.9086, -0.4272, -0.3814, -0.2803,  1.4664, -1.4664,  0.4500, -0.4500,\n",
       "          -0.0788,  0.0787, -0.0408,  0.0322,  0.1594, -0.4915],\n",
       "         [-0.9501,  0.1598,  1.9416, -0.2459,  0.2206, -0.0366, -0.0698,  0.0882,\n",
       "          -0.1827,  0.4400, -0.1571, -0.8946, -1.4102,  0.7873,  0.2298,  1.2067,\n",
       "          -0.3438, -0.4272, -0.3814, -0.2803,  3.0970, -3.0970,  1.6384, -1.6384,\n",
       "           0.1053, -0.1054, -0.0431,  0.0328,  0.0956,  0.3169],\n",
       "         [ 0.6882, -0.0285, -0.4323, -0.2561, -0.3638, -0.0310, -0.0300, -0.0523,\n",
       "           0.1358,  0.2655, -0.1421, -0.6418, -0.2411,  0.6445, -1.0303,  0.9839,\n",
       "          -0.3438, -0.4272, -0.3814, -0.2803, -0.2285,  0.2285,  0.0523, -0.0523,\n",
       "           0.0292, -0.0292, -0.0361,  0.0307,  1.0527, -0.4776],\n",
       "         [ 0.9787, -0.0427, -0.3683, -0.2525,  0.0521, -0.0365, -0.0713, -0.0502,\n",
       "          -0.2124,  0.4417, -0.1227, -0.1115,  0.0811,  0.5667,  0.1556,  0.7369,\n",
       "          -0.3438, -0.4272, -0.3814, -0.2803, -0.2742,  0.2742, -0.4500,  0.4500,\n",
       "          -0.0693,  0.0693, -0.0432,  0.0329, -1.0955,  0.2890]],\n",
       "        device='cuda:0'),\n",
       " tensor([2, 2, 0, 0, 1], device='cuda:0'))"
      ]
     },
     "execution_count": 15,
     "metadata": {},
     "output_type": "execute_result"
    }
   ],
   "source": [
    "X_train_tensor[:5], y_train_tensor[:5]"
   ]
  },
  {
   "cell_type": "code",
   "execution_count": 16,
   "id": "0c260eaf",
   "metadata": {},
   "outputs": [],
   "source": [
    "class Classifier(nn.Module):\n",
    "  def __init__(self, input_size, num_classes):\n",
    "    super(Classifier, self).__init__()\n",
    "    self.layer_1 = nn.Linear(input_size, 256)\n",
    "    self.bn1 = nn.BatchNorm1d(256)\n",
    "    self.dropout1 = nn.Dropout(0.3)\n",
    "    \n",
    "    self.layer_2 = nn.Linear(256, 128)\n",
    "    self.bn2 = nn.BatchNorm1d(128)\n",
    "    self.dropout2 = nn.Dropout(0.3)\n",
    "    \n",
    "    self.layer_3 = nn.Linear(128, 64)\n",
    "    self.bn3 = nn.BatchNorm1d(64)\n",
    "    self.dropout3 = nn.Dropout(0.2)\n",
    "    \n",
    "    self.layer_4 = nn.Linear(64, num_classes)\n",
    "    \n",
    "    self.relu = nn.ReLU()\n",
    "\n",
    "  def forward(self, x):\n",
    "    x = self.layer_1(x)\n",
    "    x = self.bn1(x)\n",
    "    x = self.relu(x)\n",
    "    x = self.dropout1(x)\n",
    "    \n",
    "    x = self.layer_2(x)\n",
    "    x = self.bn2(x)\n",
    "    x = self.relu(x)\n",
    "    x = self.dropout2(x)\n",
    "    \n",
    "    x = self.layer_3(x)\n",
    "    x = self.bn3(x)\n",
    "    x = self.relu(x)\n",
    "    x = self.dropout3(x)\n",
    "    \n",
    "    x = self.layer_4(x)\n",
    "    return x"
   ]
  },
  {
   "cell_type": "code",
   "execution_count": 17,
   "id": "a29f0e3d",
   "metadata": {},
   "outputs": [],
   "source": [
    "input_size = X_train.shape[1]\n",
    "num_classes = 3\n",
    "\n",
    "model = Classifier(input_size, num_classes).to(device)"
   ]
  },
  {
   "cell_type": "code",
   "execution_count": 18,
   "id": "674d88f6",
   "metadata": {},
   "outputs": [
    {
     "name": "stderr",
     "output_type": "stream",
     "text": [
      "c:\\Users\\CRIZMA\\AppData\\Local\\Programs\\Python\\Python312\\Lib\\site-packages\\torch\\optim\\lr_scheduler.py:62: UserWarning: The verbose parameter is deprecated. Please use get_last_lr() to access the learning rate.\n",
      "  warnings.warn(\n"
     ]
    }
   ],
   "source": [
    "optimizer = optim.AdamW(model.parameters(), lr=0.001, weight_decay=0.01)\n",
    "scheduler = optim.lr_scheduler.ReduceLROnPlateau(optimizer, mode='min', factor=0.5, patience=10, verbose=True)"
   ]
  },
  {
   "cell_type": "code",
   "execution_count": 19,
   "id": "4e7080c0",
   "metadata": {},
   "outputs": [],
   "source": [
    "class_weights = compute_class_weight('balanced', classes=np.unique(y_train), y=y_train)\n",
    "class_weights_tensor = torch.tensor(class_weights, dtype=torch.float32).to(device)\n",
    "criterion = nn.CrossEntropyLoss(weight=class_weights_tensor)"
   ]
  },
  {
   "cell_type": "code",
   "execution_count": 20,
   "id": "c8ab5975",
   "metadata": {},
   "outputs": [
    {
     "name": "stdout",
     "output_type": "stream",
     "text": [
      "Epoch [1/500] \t Loss: 1.1639 | Accuracy: 0.3171 | LR: 0.001000\n",
      "Epoch [26/500] \t Loss: 0.4139 | Accuracy: 0.8503 | LR: 0.001000\n",
      "Epoch [51/500] \t Loss: 0.3295 | Accuracy: 0.8716 | LR: 0.001000\n",
      "Epoch [76/500] \t Loss: 0.2945 | Accuracy: 0.8882 | LR: 0.001000\n",
      "Epoch [101/500] \t Loss: 0.2736 | Accuracy: 0.8916 | LR: 0.001000\n",
      "Epoch [126/500] \t Loss: 0.2650 | Accuracy: 0.8928 | LR: 0.001000\n",
      "Epoch [151/500] \t Loss: 0.2611 | Accuracy: 0.8958 | LR: 0.000500\n",
      "Epoch [176/500] \t Loss: 0.2545 | Accuracy: 0.8966 | LR: 0.000500\n",
      "Epoch [201/500] \t Loss: 0.2418 | Accuracy: 0.9057 | LR: 0.000500\n",
      "Epoch [226/500] \t Loss: 0.2412 | Accuracy: 0.9019 | LR: 0.000250\n",
      "Epoch [251/500] \t Loss: 0.2407 | Accuracy: 0.9046 | LR: 0.000125\n",
      "Epoch [276/500] \t Loss: 0.2396 | Accuracy: 0.9067 | LR: 0.000031\n",
      "Epoch [301/500] \t Loss: 0.2363 | Accuracy: 0.9046 | LR: 0.000008\n",
      "Epoch [326/500] \t Loss: 0.2391 | Accuracy: 0.9052 | LR: 0.000002\n",
      "Epoch [351/500] \t Loss: 0.2354 | Accuracy: 0.9044 | LR: 0.000000\n",
      "\n",
      "Early stopping at epoch 372\n",
      "\n",
      "Best training loss: 0.2280\n"
     ]
    },
    {
     "name": "stderr",
     "output_type": "stream",
     "text": [
      "C:\\Users\\CRIZMA\\AppData\\Local\\Temp\\ipykernel_30712\\3195724986.py:42: FutureWarning: You are using `torch.load` with `weights_only=False` (the current default value), which uses the default pickle module implicitly. It is possible to construct malicious pickle data which will execute arbitrary code during unpickling (See https://github.com/pytorch/pytorch/blob/main/SECURITY.md#untrusted-models for more details). In a future release, the default value for `weights_only` will be flipped to `True`. This limits the functions that could be executed during unpickling. Arbitrary objects will no longer be allowed to be loaded via this mode unless they are explicitly allowlisted by the user via `torch.serialization.add_safe_globals`. We recommend you start setting `weights_only=True` for any use case where you don't have full control of the loaded file. Please open an issue on GitHub for any issues related to this experimental feature.\n",
      "  model.load_state_dict(torch.load('best_model.pth'))\n"
     ]
    }
   ],
   "source": [
    "num_epochs = 500\n",
    "best_loss = float('inf')\n",
    "patience = 50\n",
    "patience_counter = 0\n",
    "\n",
    "train_losses = []\n",
    "train_accs = []\n",
    "\n",
    "for epoch in range(num_epochs):\n",
    "  model.train()\n",
    "\n",
    "  # forward\n",
    "  outputs = model(X_train_tensor)\n",
    "  loss = criterion(outputs, y_train_tensor)\n",
    "\n",
    "  _, predicted = torch.max(outputs, 1)\n",
    "  acc = accuracy_score(y_train_tensor.cpu().numpy(), predicted.cpu().numpy())\n",
    "\n",
    "  optimizer.zero_grad()\n",
    "  loss.backward()\n",
    "  optimizer.step()\n",
    "  \n",
    "  scheduler.step(loss)\n",
    "  \n",
    "  train_losses.append(loss.item())\n",
    "  train_accs.append(acc)\n",
    "  \n",
    "  if loss.item() < best_loss:\n",
    "    best_loss = loss.item()\n",
    "    patience_counter = 0\n",
    "    torch.save(model.state_dict(), 'best_model.pth')\n",
    "  else:\n",
    "    patience_counter += 1\n",
    "  \n",
    "  if epoch % 25 == 0:\n",
    "    print(f'Epoch [{epoch+1}/{num_epochs}] \\t Loss: {loss.item():.4f} | Accuracy: {acc:.4f} | LR: {optimizer.param_groups[0][\"lr\"]:.6f}')\n",
    "  \n",
    "  if patience_counter >= patience:\n",
    "    print(f'\\nEarly stopping at epoch {epoch+1}')\n",
    "    break\n",
    "\n",
    "model.load_state_dict(torch.load('best_model.pth'))\n",
    "print(f'\\nBest training loss: {best_loss:.4f}')"
   ]
  },
  {
   "cell_type": "code",
   "execution_count": 21,
   "id": "bd7519ee",
   "metadata": {},
   "outputs": [
    {
     "data": {
      "image/png": "[encoded data removed]",
      "text/plain": [
       "<Figure size 1200x400 with 2 Axes>"
      ]
     },
     "metadata": {},
     "output_type": "display_data"
    }
   ],
   "source": [
    "# Plot training history\n",
    "plt.figure(figsize=(12, 4))\n",
    "\n",
    "plt.subplot(1, 2, 1)\n",
    "plt.plot(train_losses)\n",
    "plt.title('Training Loss')\n",
    "plt.xlabel('Epoch')\n",
    "plt.ylabel('Loss')\n",
    "plt.grid(True)\n",
    "\n",
    "plt.subplot(1, 2, 2)\n",
    "plt.plot(train_accs)\n",
    "plt.title('Training Accuracy')\n",
    "plt.xlabel('Epoch')\n",
    "plt.ylabel('Accuracy')\n",
    "plt.grid(True)\n",
    "\n",
    "plt.tight_layout()\n",
    "plt.show()"
   ]
  },
  {
   "cell_type": "code",
   "execution_count": 22,
   "id": "11663292",
   "metadata": {},
   "outputs": [
    {
     "name": "stdout",
     "output_type": "stream",
     "text": [
      "Test Loss: 0.2633 | Accuracy: 0.8990\n"
     ]
    }
   ],
   "source": [
    "model.eval()\n",
    "with torch.no_grad():\n",
    "  outputs = model(X_test_tensor)\n",
    "  _, predicted = torch.max(outputs, 1)\n",
    "  acc = accuracy_score(y_test_tensor.cpu().numpy(), predicted.cpu().numpy())\n",
    "\n",
    "  predicted_tensor = predicted.clone().detach()  \n",
    "  loss = criterion(outputs, y_test_tensor)\n",
    "  \n",
    "print(f'Test Loss: {loss.item():.4f} | Accuracy: {acc:.4f}')"
   ]
  },
  {
   "cell_type": "code",
   "execution_count": 23,
   "id": "86d9448d",
   "metadata": {},
   "outputs": [
    {
     "name": "stdout",
     "output_type": "stream",
     "text": [
      "Classification Report:\n",
      "                precision    recall  f1-score   support\n",
      "\n",
      "     CANDIDATE       0.87      0.85      0.86       415\n",
      "     CONFIRMED       0.84      0.88      0.86       376\n",
      "FALSE POSITIVE       0.99      0.97      0.98       397\n",
      "\n",
      "      accuracy                           0.90      1188\n",
      "     macro avg       0.90      0.90      0.90      1188\n",
      "  weighted avg       0.90      0.90      0.90      1188\n",
      "\n",
      "\n",
      "Confusion Matrix:\n"
     ]
    },
    {
     "data": {
      "image/png": "[encoded data removed]",
      "text/plain": [
       "<Figure size 800x600 with 2 Axes>"
      ]
     },
     "metadata": {},
     "output_type": "display_data"
    }
   ],
   "source": [
    "from sklearn.metrics import classification_report, confusion_matrix\n",
    "import seaborn as sns\n",
    "\n",
    "model.eval()\n",
    "with torch.no_grad():\n",
    "  outputs = model(X_test_tensor)\n",
    "  _, predicted = torch.max(outputs, 1)\n",
    "  \n",
    "y_test_pred = predicted.cpu().numpy()\n",
    "y_test_actual = y_test_tensor.cpu().numpy()\n",
    "\n",
    "print(\"Classification Report:\")\n",
    "print(classification_report(y_test_actual, y_test_pred, \n",
    "                          target_names=label_encoder.classes_))\n",
    "\n",
    "print(\"\\nConfusion Matrix:\")\n",
    "cm = confusion_matrix(y_test_actual, y_test_pred)\n",
    "plt.figure(figsize=(8, 6))\n",
    "sns.heatmap(cm, annot=True, fmt='d', cmap='Blues', \n",
    "            xticklabels=label_encoder.classes_,\n",
    "            yticklabels=label_encoder.classes_)\n",
    "plt.ylabel('Actual')\n",
    "plt.xlabel('Predicted')\n",
    "plt.title('Confusion Matrix')\n",
    "plt.show()"
   ]
  },
  {
   "cell_type": "markdown",
   "id": "79a630cc",
   "metadata": {},
   "source": [
    "---"
   ]
  },
  {
   "cell_type": "code",
   "execution_count": 24,
   "id": "5e6c1a64",
   "metadata": {},
   "outputs": [
    {
     "name": "stdout",
     "output_type": "stream",
     "text": [
      "\n",
      "Model info: {'input_size': 30, 'num_classes': 3, 'feature_names': ['koi_score', 'koi_period', 'koi_duration', 'koi_depth', 'koi_time0bk', 'koi_prad', 'koi_ror', 'koi_dor', 'koi_impact', 'koi_incl', 'koi_srad', 'koi_smass', 'koi_steff', 'koi_slogg', 'koi_smet', 'koi_kepmag', 'koi_fpflag_nt', 'koi_fpflag_ss', 'koi_fpflag_co', 'koi_fpflag_ec', 'koi_period_err1', 'koi_period_err2', 'koi_duration_err1', 'koi_duration_err2', 'koi_depth_err1', 'koi_depth_err2', 'koi_prad_err1', 'koi_prad_err2', 'koi_steff_err1', 'koi_steff_err2'], 'label_mapping': {'CANDIDATE': 0, 'CONFIRMED': 1, 'FALSE POSITIVE': 2}}\n"
     ]
    }
   ],
   "source": [
    "import pickle\n",
    "import joblib\n",
    "\n",
    "torch.save(model.state_dict(), 'exoplanet_classifier_model.pth')\n",
    "\n",
    "joblib.dump(scaler, 'exoplanet_scaler.pkl')\n",
    "\n",
    "joblib.dump(label_encoder, 'exoplanet_label_encoder.pkl')\n",
    "\n",
    "model_info = {\n",
    "    'input_size': input_size,\n",
    "    'num_classes': num_classes,\n",
    "    'feature_names': list(X_balanced.columns),\n",
    "    'label_mapping': dict(zip(label_encoder.classes_, label_encoder.transform(label_encoder.classes_)))\n",
    "}\n",
    "\n",
    "with open('model_info.pkl', 'wb') as f:\n",
    "    pickle.dump(model_info, f)\n",
    "\n",
    "print(f\"\\nModel info: {model_info}\")"
   ]
  },
  {
   "cell_type": "code",
   "execution_count": 25,
   "id": "495668f5",
   "metadata": {},
   "outputs": [],
   "source": [
    "def load_and_predict(features):\n",
    "    import torch\n",
    "    import torch.nn as nn\n",
    "    import joblib\n",
    "    import pickle\n",
    "    import numpy as np\n",
    "    \n",
    "    scaler = joblib.load('exoplanet_scaler.pkl')\n",
    "    label_encoder = joblib.load('exoplanet_label_encoder.pkl')\n",
    "    \n",
    "    with open('model_info.pkl', 'rb') as f:\n",
    "        model_info = pickle.load(f)\n",
    "    \n",
    "    class Classifier(nn.Module):\n",
    "        def __init__(self, input_size, num_classes):\n",
    "            super(Classifier, self).__init__()\n",
    "            self.layer_1 = nn.Linear(input_size, 256)\n",
    "            self.bn1 = nn.BatchNorm1d(256)\n",
    "            self.dropout1 = nn.Dropout(0.3)\n",
    "            \n",
    "            self.layer_2 = nn.Linear(256, 128)\n",
    "            self.bn2 = nn.BatchNorm1d(128)\n",
    "            self.dropout2 = nn.Dropout(0.3)\n",
    "            \n",
    "            self.layer_3 = nn.Linear(128, 64)\n",
    "            self.bn3 = nn.BatchNorm1d(64)\n",
    "            self.dropout3 = nn.Dropout(0.2)\n",
    "            \n",
    "            self.layer_4 = nn.Linear(64, num_classes)\n",
    "            \n",
    "            self.relu = nn.ReLU()\n",
    "\n",
    "        def forward(self, x):\n",
    "            x = self.layer_1(x)\n",
    "            x = self.bn1(x)\n",
    "            x = self.relu(x)\n",
    "            x = self.dropout1(x)\n",
    "            \n",
    "            x = self.layer_2(x)\n",
    "            x = self.bn2(x)\n",
    "            x = self.relu(x)\n",
    "            x = self.dropout2(x)\n",
    "            \n",
    "            x = self.layer_3(x)\n",
    "            x = self.bn3(x)\n",
    "            x = self.relu(x)\n",
    "            x = self.dropout3(x)\n",
    "            \n",
    "            x = self.layer_4(x)\n",
    "            return x\n",
    "    \n",
    "    model = Classifier(model_info['input_size'], model_info['num_classes'])\n",
    "    model.load_state_dict(torch.load('exoplanet_classifier_model.pth', weights_only=False))\n",
    "    model.eval()\n",
    "    \n",
    "    features = np.array(features).reshape(1, -1)\n",
    "    features_scaled = scaler.transform(features)\n",
    "    \n",
    "    features_tensor = torch.tensor(features_scaled, dtype=torch.float32)\n",
    "    \n",
    "    with torch.no_grad():\n",
    "        outputs = model(features_tensor)\n",
    "        probabilities = torch.softmax(outputs, dim=1)\n",
    "        _, predicted = torch.max(outputs, 1)\n",
    "    \n",
    "    prediction = predicted.item()\n",
    "    confidence = probabilities[0][prediction].item()\n",
    "    label = label_encoder.inverse_transform([prediction])[0]\n",
    "    \n",
    "    return prediction, confidence, label"
   ]
  },
  {
   "cell_type": "code",
   "execution_count": 26,
   "id": "ca13c809",
   "metadata": {},
   "outputs": [
    {
     "name": "stdout",
     "output_type": "stream",
     "text": [
      "Original features (first 5): [  0.998        3.76562031   1.288      232.6        131.75562   ]\n",
      "Expected label: CANDIDATE\n",
      "Prediction: 0\n",
      "Confidence: 0.7267\n",
      "Label: CANDIDATE\n",
      "Correct: True\n"
     ]
    },
    {
     "name": "stderr",
     "output_type": "stream",
     "text": [
      "C:\\Users\\CRIZMA\\AppData\\Roaming\\Python\\Python312\\site-packages\\sklearn\\utils\\validation.py:2749: UserWarning: X does not have valid feature names, but StandardScaler was fitted with feature names\n",
      "  warnings.warn(\n"
     ]
    }
   ],
   "source": [
    "test_sample = X_test[0]\n",
    "test_sample_original = scaler.inverse_transform(test_sample.reshape(1, -1))[0]  # original\n",
    "\n",
    "print(f\"Original features (first 5): {test_sample_original[:5]}\")\n",
    "print(f\"Expected label: {label_encoder.inverse_transform([y_test[0]])[0]}\")\n",
    "\n",
    "prediction, confidence, predicted_label = load_and_predict(test_sample_original)\n",
    "\n",
    "print(f\"Prediction: {prediction}\")\n",
    "print(f\"Confidence: {confidence:.4f}\")\n",
    "print(f\"Label: {predicted_label}\")\n",
    "print(f\"Correct: {predicted_label == label_encoder.inverse_transform([y_test[0]])[0]}\")"
   ]
  },
  {
   "cell_type": "code",
   "execution_count": null,
   "id": "640a738b",
   "metadata": {},
   "outputs": [],
   "source": []
  }
 ],
 "metadata": {
  "kernelspec": {
   "display_name": "Python 3",
   "language": "python",
   "name": "python3"
  },
  "language_info": {
   "codemirror_mode": {
    "name": "ipython",
    "version": 3
   },
   "file_extension": ".py",
   "mimetype": "text/x-python",
   "name": "python",
   "nbconvert_exporter": "python",
   "pygments_lexer": "ipython3",
   "version": "3.12.8"
  }
 },
 "nbformat": 4,
 "nbformat_minor": 5
}
