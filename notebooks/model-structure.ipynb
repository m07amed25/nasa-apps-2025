{
 "cells": [
  {
   "cell_type": "code",
   "execution_count": 63,
   "id": "d1328d8c",
   "metadata": {},
   "outputs": [],
   "source": [
    "import pandas as pd\n",
    "from sklearn.model_selection import train_test_split\n",
    "from sklearn.preprocessing import RobustScaler\n",
    "# from sklearn.preprocessing import LabelEncoder\n",
    "from sklearn.metrics import accuracy_score, classification_report, confusion_matrix\n",
    "\n",
    "import numpy as np\n",
    "\n",
    "import torch\n",
    "import torch.nn as nn\n",
    "from torch.utils.data import DataLoader, TensorDataset"
   ]
  },
  {
   "cell_type": "code",
   "execution_count": 64,
   "id": "71f2cde7",
   "metadata": {},
   "outputs": [
    {
     "data": {
      "text/plain": [
       "'cuda'"
      ]
     },
     "execution_count": 64,
     "metadata": {},
     "output_type": "execute_result"
    }
   ],
   "source": [
    "device = 'cuda' if torch.cuda.is_available() else 'cpu'\n",
    "device"
   ]
  },
  {
   "cell_type": "code",
   "execution_count": 65,
   "id": "ac1a827e",
   "metadata": {},
   "outputs": [
    {
     "data": {
      "text/html": [
       "<div>\n",
       "<style scoped>\n",
       "    .dataframe tbody tr th:only-of-type {\n",
       "        vertical-align: middle;\n",
       "    }\n",
       "\n",
       "    .dataframe tbody tr th {\n",
       "        vertical-align: top;\n",
       "    }\n",
       "\n",
       "    .dataframe thead th {\n",
       "        text-align: right;\n",
       "    }\n",
       "</style>\n",
       "<table border=\"1\" class=\"dataframe\">\n",
       "  <thead>\n",
       "    <tr style=\"text-align: right;\">\n",
       "      <th></th>\n",
       "      <th>kepid</th>\n",
       "      <th>kepoi_name</th>\n",
       "      <th>koi_disposition</th>\n",
       "      <th>koi_pdisposition</th>\n",
       "      <th>koi_score</th>\n",
       "      <th>koi_period</th>\n",
       "      <th>koi_duration</th>\n",
       "      <th>koi_depth</th>\n",
       "      <th>koi_time0bk</th>\n",
       "      <th>koi_prad</th>\n",
       "      <th>koi_ror</th>\n",
       "      <th>koi_dor</th>\n",
       "      <th>koi_impact</th>\n",
       "      <th>koi_incl</th>\n",
       "      <th>koi_srad</th>\n",
       "      <th>koi_smass</th>\n",
       "      <th>koi_steff</th>\n",
       "      <th>koi_slogg</th>\n",
       "      <th>koi_smet</th>\n",
       "      <th>koi_kepmag</th>\n",
       "      <th>koi_fpflag_nt</th>\n",
       "      <th>koi_fpflag_ss</th>\n",
       "      <th>koi_fpflag_co</th>\n",
       "      <th>koi_fpflag_ec</th>\n",
       "      <th>koi_vet_stat</th>\n",
       "      <th>koi_vet_date</th>\n",
       "      <th>koi_disp_prov</th>\n",
       "      <th>koi_period_err1</th>\n",
       "      <th>koi_period_err2</th>\n",
       "      <th>koi_duration_err1</th>\n",
       "      <th>koi_duration_err2</th>\n",
       "      <th>koi_depth_err1</th>\n",
       "      <th>koi_depth_err2</th>\n",
       "      <th>koi_prad_err1</th>\n",
       "      <th>koi_prad_err2</th>\n",
       "      <th>koi_steff_err1</th>\n",
       "      <th>koi_steff_err2</th>\n",
       "    </tr>\n",
       "  </thead>\n",
       "  <tbody>\n",
       "    <tr>\n",
       "      <th>0</th>\n",
       "      <td>10797460</td>\n",
       "      <td>K00752.01</td>\n",
       "      <td>CONFIRMED</td>\n",
       "      <td>CANDIDATE</td>\n",
       "      <td>1.000</td>\n",
       "      <td>9.488036</td>\n",
       "      <td>2.95750</td>\n",
       "      <td>615.8</td>\n",
       "      <td>170.538750</td>\n",
       "      <td>2.26</td>\n",
       "      <td>0.022344</td>\n",
       "      <td>24.810</td>\n",
       "      <td>0.146</td>\n",
       "      <td>89.66</td>\n",
       "      <td>0.927</td>\n",
       "      <td>0.919</td>\n",
       "      <td>5455.0</td>\n",
       "      <td>4.467</td>\n",
       "      <td>0.14</td>\n",
       "      <td>15.347</td>\n",
       "      <td>0</td>\n",
       "      <td>0</td>\n",
       "      <td>0</td>\n",
       "      <td>0</td>\n",
       "      <td>Done</td>\n",
       "      <td>2018-08-16</td>\n",
       "      <td>q1_q17_dr25_sup_koi</td>\n",
       "      <td>2.775000e-05</td>\n",
       "      <td>-2.775000e-05</td>\n",
       "      <td>0.08190</td>\n",
       "      <td>-0.08190</td>\n",
       "      <td>19.5</td>\n",
       "      <td>-19.5</td>\n",
       "      <td>0.26</td>\n",
       "      <td>-0.15</td>\n",
       "      <td>81.0</td>\n",
       "      <td>-81.0</td>\n",
       "    </tr>\n",
       "    <tr>\n",
       "      <th>1</th>\n",
       "      <td>10797460</td>\n",
       "      <td>K00752.02</td>\n",
       "      <td>CONFIRMED</td>\n",
       "      <td>CANDIDATE</td>\n",
       "      <td>0.969</td>\n",
       "      <td>54.418383</td>\n",
       "      <td>4.50700</td>\n",
       "      <td>874.8</td>\n",
       "      <td>162.513840</td>\n",
       "      <td>2.83</td>\n",
       "      <td>0.027954</td>\n",
       "      <td>77.900</td>\n",
       "      <td>0.586</td>\n",
       "      <td>89.57</td>\n",
       "      <td>0.927</td>\n",
       "      <td>0.919</td>\n",
       "      <td>5455.0</td>\n",
       "      <td>4.467</td>\n",
       "      <td>0.14</td>\n",
       "      <td>15.347</td>\n",
       "      <td>0</td>\n",
       "      <td>0</td>\n",
       "      <td>0</td>\n",
       "      <td>0</td>\n",
       "      <td>Done</td>\n",
       "      <td>2018-08-16</td>\n",
       "      <td>q1_q17_dr25_sup_koi</td>\n",
       "      <td>2.479000e-04</td>\n",
       "      <td>-2.479000e-04</td>\n",
       "      <td>0.11600</td>\n",
       "      <td>-0.11600</td>\n",
       "      <td>35.5</td>\n",
       "      <td>-35.5</td>\n",
       "      <td>0.32</td>\n",
       "      <td>-0.19</td>\n",
       "      <td>81.0</td>\n",
       "      <td>-81.0</td>\n",
       "    </tr>\n",
       "    <tr>\n",
       "      <th>2</th>\n",
       "      <td>10811496</td>\n",
       "      <td>K00753.01</td>\n",
       "      <td>CANDIDATE</td>\n",
       "      <td>CANDIDATE</td>\n",
       "      <td>0.000</td>\n",
       "      <td>19.899140</td>\n",
       "      <td>1.78220</td>\n",
       "      <td>10829.0</td>\n",
       "      <td>175.850252</td>\n",
       "      <td>14.60</td>\n",
       "      <td>0.154046</td>\n",
       "      <td>53.500</td>\n",
       "      <td>0.969</td>\n",
       "      <td>88.96</td>\n",
       "      <td>0.868</td>\n",
       "      <td>0.961</td>\n",
       "      <td>5853.0</td>\n",
       "      <td>4.544</td>\n",
       "      <td>-0.18</td>\n",
       "      <td>15.436</td>\n",
       "      <td>0</td>\n",
       "      <td>0</td>\n",
       "      <td>0</td>\n",
       "      <td>0</td>\n",
       "      <td>Done</td>\n",
       "      <td>2018-08-16</td>\n",
       "      <td>q1_q17_dr25_sup_koi</td>\n",
       "      <td>1.494000e-05</td>\n",
       "      <td>-1.494000e-05</td>\n",
       "      <td>0.03410</td>\n",
       "      <td>-0.03410</td>\n",
       "      <td>171.0</td>\n",
       "      <td>-171.0</td>\n",
       "      <td>3.92</td>\n",
       "      <td>-1.31</td>\n",
       "      <td>158.0</td>\n",
       "      <td>-176.0</td>\n",
       "    </tr>\n",
       "    <tr>\n",
       "      <th>3</th>\n",
       "      <td>10848459</td>\n",
       "      <td>K00754.01</td>\n",
       "      <td>FALSE POSITIVE</td>\n",
       "      <td>FALSE POSITIVE</td>\n",
       "      <td>0.000</td>\n",
       "      <td>1.736952</td>\n",
       "      <td>2.40641</td>\n",
       "      <td>8079.2</td>\n",
       "      <td>170.307565</td>\n",
       "      <td>33.46</td>\n",
       "      <td>0.387394</td>\n",
       "      <td>3.278</td>\n",
       "      <td>1.276</td>\n",
       "      <td>67.09</td>\n",
       "      <td>0.791</td>\n",
       "      <td>0.836</td>\n",
       "      <td>5805.0</td>\n",
       "      <td>4.564</td>\n",
       "      <td>-0.52</td>\n",
       "      <td>15.597</td>\n",
       "      <td>0</td>\n",
       "      <td>1</td>\n",
       "      <td>0</td>\n",
       "      <td>0</td>\n",
       "      <td>Done</td>\n",
       "      <td>2018-08-16</td>\n",
       "      <td>q1_q17_dr25_sup_koi</td>\n",
       "      <td>2.630000e-07</td>\n",
       "      <td>-2.630000e-07</td>\n",
       "      <td>0.00537</td>\n",
       "      <td>-0.00537</td>\n",
       "      <td>12.8</td>\n",
       "      <td>-12.8</td>\n",
       "      <td>8.50</td>\n",
       "      <td>-2.83</td>\n",
       "      <td>157.0</td>\n",
       "      <td>-174.0</td>\n",
       "    </tr>\n",
       "    <tr>\n",
       "      <th>4</th>\n",
       "      <td>10854555</td>\n",
       "      <td>K00755.01</td>\n",
       "      <td>CONFIRMED</td>\n",
       "      <td>CANDIDATE</td>\n",
       "      <td>1.000</td>\n",
       "      <td>2.525592</td>\n",
       "      <td>1.65450</td>\n",
       "      <td>603.3</td>\n",
       "      <td>171.595550</td>\n",
       "      <td>2.75</td>\n",
       "      <td>0.024064</td>\n",
       "      <td>8.750</td>\n",
       "      <td>0.701</td>\n",
       "      <td>85.41</td>\n",
       "      <td>1.046</td>\n",
       "      <td>1.095</td>\n",
       "      <td>6031.0</td>\n",
       "      <td>4.438</td>\n",
       "      <td>0.07</td>\n",
       "      <td>15.509</td>\n",
       "      <td>0</td>\n",
       "      <td>0</td>\n",
       "      <td>0</td>\n",
       "      <td>0</td>\n",
       "      <td>Done</td>\n",
       "      <td>2018-08-16</td>\n",
       "      <td>q1_q17_dr25_sup_koi</td>\n",
       "      <td>3.761000e-06</td>\n",
       "      <td>-3.761000e-06</td>\n",
       "      <td>0.04200</td>\n",
       "      <td>-0.04200</td>\n",
       "      <td>16.9</td>\n",
       "      <td>-16.9</td>\n",
       "      <td>0.88</td>\n",
       "      <td>-0.35</td>\n",
       "      <td>169.0</td>\n",
       "      <td>-211.0</td>\n",
       "    </tr>\n",
       "  </tbody>\n",
       "</table>\n",
       "</div>"
      ],
      "text/plain": [
       "      kepid kepoi_name  ... koi_steff_err1 koi_steff_err2\n",
       "0  10797460  K00752.01  ...           81.0          -81.0\n",
       "1  10797460  K00752.02  ...           81.0          -81.0\n",
       "2  10811496  K00753.01  ...          158.0         -176.0\n",
       "3  10848459  K00754.01  ...          157.0         -174.0\n",
       "4  10854555  K00755.01  ...          169.0         -211.0\n",
       "\n",
       "[5 rows x 37 columns]"
      ]
     },
     "execution_count": 65,
     "metadata": {},
     "output_type": "execute_result"
    }
   ],
   "source": [
    "df = pd.read_csv(r\"H:\\Nasa Space Apps 2025\\data\\cleaned_data.csv\")\n",
    "df.head()"
   ]
  },
  {
   "cell_type": "code",
   "execution_count": 66,
   "id": "cd85a1c1",
   "metadata": {},
   "outputs": [
    {
     "data": {
      "text/plain": [
       "Index(['koi_disposition', 'koi_score', 'koi_period', 'koi_duration',\n",
       "       'koi_depth', 'koi_time0bk', 'koi_prad', 'koi_ror', 'koi_dor',\n",
       "       'koi_impact', 'koi_incl', 'koi_srad', 'koi_smass', 'koi_steff',\n",
       "       'koi_slogg', 'koi_smet', 'koi_kepmag', 'koi_fpflag_nt', 'koi_fpflag_ss',\n",
       "       'koi_fpflag_co', 'koi_fpflag_ec', 'koi_period_err1', 'koi_period_err2',\n",
       "       'koi_duration_err1', 'koi_duration_err2', 'koi_depth_err1',\n",
       "       'koi_depth_err2', 'koi_prad_err1', 'koi_prad_err2', 'koi_steff_err1',\n",
       "       'koi_steff_err2'],\n",
       "      dtype='object')"
      ]
     },
     "execution_count": 66,
     "metadata": {},
     "output_type": "execute_result"
    }
   ],
   "source": [
    "df = df.drop(columns=['kepid', 'kepoi_name', 'koi_pdisposition', 'koi_vet_stat', 'koi_vet_date', 'koi_disp_prov'])\n",
    "df.columns"
   ]
  },
  {
   "cell_type": "code",
   "execution_count": 67,
   "id": "4b457b89",
   "metadata": {},
   "outputs": [
    {
     "name": "stdout",
     "output_type": "stream",
     "text": [
      "<class 'pandas.core.frame.DataFrame'>\n",
      "RangeIndex: 9564 entries, 0 to 9563\n",
      "Data columns (total 31 columns):\n",
      " #   Column             Non-Null Count  Dtype  \n",
      "---  ------             --------------  -----  \n",
      " 0   koi_disposition    9564 non-null   object \n",
      " 1   koi_score          9564 non-null   float64\n",
      " 2   koi_period         9564 non-null   float64\n",
      " 3   koi_duration       9564 non-null   float64\n",
      " 4   koi_depth          9564 non-null   float64\n",
      " 5   koi_time0bk        9564 non-null   float64\n",
      " 6   koi_prad           9564 non-null   float64\n",
      " 7   koi_ror            9564 non-null   float64\n",
      " 8   koi_dor            9564 non-null   float64\n",
      " 9   koi_impact         9564 non-null   float64\n",
      " 10  koi_incl           9564 non-null   float64\n",
      " 11  koi_srad           9564 non-null   float64\n",
      " 12  koi_smass          9564 non-null   float64\n",
      " 13  koi_steff          9564 non-null   float64\n",
      " 14  koi_slogg          9564 non-null   float64\n",
      " 15  koi_smet           9564 non-null   float64\n",
      " 16  koi_kepmag         9563 non-null   float64\n",
      " 17  koi_fpflag_nt      9564 non-null   int64  \n",
      " 18  koi_fpflag_ss      9564 non-null   int64  \n",
      " 19  koi_fpflag_co      9564 non-null   int64  \n",
      " 20  koi_fpflag_ec      9564 non-null   int64  \n",
      " 21  koi_period_err1    9564 non-null   float64\n",
      " 22  koi_period_err2    9564 non-null   float64\n",
      " 23  koi_duration_err1  9564 non-null   float64\n",
      " 24  koi_duration_err2  9564 non-null   float64\n",
      " 25  koi_depth_err1     9564 non-null   float64\n",
      " 26  koi_depth_err2     9564 non-null   float64\n",
      " 27  koi_prad_err1      9564 non-null   float64\n",
      " 28  koi_prad_err2      9564 non-null   float64\n",
      " 29  koi_steff_err1     9564 non-null   float64\n",
      " 30  koi_steff_err2     9564 non-null   float64\n",
      "dtypes: float64(26), int64(4), object(1)\n",
      "memory usage: 2.3+ MB\n"
     ]
    }
   ],
   "source": [
    "df.info()"
   ]
  },
  {
   "cell_type": "code",
   "execution_count": 68,
   "id": "52453aea",
   "metadata": {},
   "outputs": [],
   "source": [
    "X = df.drop(columns=['koi_disposition'])\n",
    "\n",
    "scaler = RobustScaler()\n",
    "X_scaled = scaler.fit_transform(X)"
   ]
  },
  {
   "cell_type": "code",
   "execution_count": 69,
   "id": "4ca33f7a",
   "metadata": {},
   "outputs": [
    {
     "data": {
      "text/plain": [
       "0    1\n",
       "1    1\n",
       "2    0\n",
       "3    2\n",
       "4    1\n",
       "dtype: int8"
      ]
     },
     "execution_count": 69,
     "metadata": {},
     "output_type": "execute_result"
    }
   ],
   "source": [
    "y = df['koi_disposition'].astype('category').cat.codes  # 0,1,2 labels\n",
    "\n",
    "y[:5]"
   ]
  },
  {
   "cell_type": "code",
   "execution_count": 70,
   "id": "8eef5088",
   "metadata": {},
   "outputs": [
    {
     "data": {
      "text/plain": [
       "((9564, 30), (9564,))"
      ]
     },
     "execution_count": 70,
     "metadata": {},
     "output_type": "execute_result"
    }
   ],
   "source": [
    "X.shape, y.shape"
   ]
  },
  {
   "cell_type": "code",
   "execution_count": 71,
   "id": "6fdd336a",
   "metadata": {},
   "outputs": [],
   "source": [
    "X_train, X_temp, y_train, y_temp = train_test_split(\n",
    "    X_scaled, y, test_size=0.3, random_state=42, stratify=y\n",
    ")\n",
    "\n",
    "X_val, X_test, y_val, y_test = train_test_split(\n",
    "    X_temp, y_temp, test_size=0.5, random_state=42, stratify=y_temp\n",
    ")"
   ]
  },
  {
   "cell_type": "code",
   "execution_count": 89,
   "id": "72f3caaa",
   "metadata": {},
   "outputs": [
    {
     "name": "stdout",
     "output_type": "stream",
     "text": [
      "Tensor shapes:\n",
      "X_train: torch.Size([6694, 30]), y_train: torch.Size([6694])\n",
      "X_val: torch.Size([1435, 30]), y_val: torch.Size([1435])\n",
      "X_test: torch.Size([1435, 30]), y_test: torch.Size([1435])\n",
      "Classes: ['CANDIDATE' 'CONFIRMED' 'FALSE POSITIVE']\n"
     ]
    }
   ],
   "source": [
    "y_train = torch.tensor(y_train.values, dtype=torch.long)\n",
    "y_val   = torch.tensor(y_val.values, dtype=torch.long)\n",
    "y_test  = torch.tensor(y_test.values, dtype=torch.long)\n",
    "\n",
    "y_train_tensor = torch.tensor(y_train, dtype=torch.long)\n",
    "y_val_tensor   = torch.tensor(y_val, dtype=torch.long)\n",
    "y_test_tensor  = torch.tensor(y_test, dtype=torch.long)"
   ]
  },
  {
   "cell_type": "code",
   "execution_count": 74,
   "id": "19e98a6d",
   "metadata": {},
   "outputs": [
    {
     "name": "stdout",
     "output_type": "stream",
     "text": [
      "Train shape: torch.Size([6694, 30]) torch.Size([6694])\n",
      "Val shape: torch.Size([1435, 30]) torch.Size([1435])\n",
      "Test shape: torch.Size([1435, 30]) torch.Size([1435])\n",
      "Classes: ['CANDIDATE' 'CONFIRMED' 'FALSE POSITIVE']\n"
     ]
    }
   ],
   "source": [
    "print(\"Train shape:\", X_train_tensor.shape, y_train_tensor.shape)\n",
    "print(\"Val shape:\", X_val_tensor.shape, y_val_tensor.shape)\n",
    "print(\"Test shape:\", X_test_tensor.shape, y_test_tensor.shape)\n",
    "print(\"Classes:\", label_encoder.classes_)"
   ]
  },
  {
   "cell_type": "code",
   "execution_count": 75,
   "id": "3476f80d",
   "metadata": {},
   "outputs": [],
   "source": [
    "batch_size = 64\n",
    "\n",
    "train_dataset = TensorDataset(X_train_tensor, y_train_tensor)\n",
    "val_dataset   = TensorDataset(X_val_tensor, y_val_tensor)\n",
    "test_dataset  = TensorDataset(X_test_tensor, y_test_tensor)\n",
    "\n",
    "train_loader = DataLoader(train_dataset, batch_size=batch_size, shuffle=True)\n",
    "val_loader   = DataLoader(val_dataset, batch_size=batch_size, shuffle=False)\n",
    "test_loader  = DataLoader(test_dataset, batch_size=batch_size, shuffle=False)"
   ]
  },
  {
   "cell_type": "code",
   "execution_count": 91,
   "id": "8e0b5bcf",
   "metadata": {},
   "outputs": [],
   "source": [
    "class ExoplanetMLP(nn.Module):\n",
    "    def __init__(self, input_dim, hidden1=256, hidden2=128, hidden3=64, output_dim=3, dropout=0.4):\n",
    "        super(ExoplanetMLP, self).__init__()\n",
    "        self.net = nn.Sequential(\n",
    "            nn.Linear(input_dim, hidden1),\n",
    "            nn.BatchNorm1d(hidden1),\n",
    "            nn.ReLU(),\n",
    "            nn.Dropout(dropout),\n",
    "\n",
    "            nn.Linear(hidden1, hidden2),\n",
    "            nn.BatchNorm1d(hidden2),\n",
    "            nn.ReLU(),\n",
    "            nn.Dropout(dropout),\n",
    "\n",
    "            nn.Linear(hidden2, hidden3),\n",
    "            nn.BatchNorm1d(hidden3),\n",
    "            nn.ReLU(),\n",
    "            nn.Dropout(dropout),\n",
    "\n",
    "            nn.Linear(hidden3, output_dim)  # final layer\n",
    "        )\n",
    "        \n",
    "    def forward(self, x):\n",
    "        return self.net(x)\n"
   ]
  },
  {
   "cell_type": "code",
   "execution_count": 97,
   "id": "e2b9e856",
   "metadata": {},
   "outputs": [
    {
     "name": "stdout",
     "output_type": "stream",
     "text": [
      "Model created with 190467 parameters\n",
      "Input dim: 30, Output dim: 3\n",
      "Classes: ['CANDIDATE' 'CONFIRMED' 'FALSE POSITIVE']\n"
     ]
    }
   ],
   "source": [
    "input_dim = X_train_tensor.shape[1]\n",
    "output_dim = len(label_encoder.classes_)\n",
    "model = ExoplanetMLP(input_dim=input_dim, output_dim=3).to(device)"
   ]
  },
  {
   "cell_type": "code",
   "execution_count": 98,
   "id": "b0a2174a",
   "metadata": {},
   "outputs": [],
   "source": [
    "criterion = nn.CrossEntropyLoss()\n",
    "optimizer = torch.optim.Adam(model.parameters(), lr=1e-3, weight_decay=1e-5)\n",
    "scheduler = torch.optim.lr_scheduler.ReduceLROnPlateau(optimizer, mode='min', patience=3, factor=0.5)"
   ]
  },
  {
   "cell_type": "code",
   "execution_count": 99,
   "id": "9d805830",
   "metadata": {},
   "outputs": [],
   "source": [
    "def train_model(model, train_loader, val_loader, criterion, optimizer, scheduler=None, epochs=50, patience=7):\n",
    "    model = model.to(device)\n",
    "    \n",
    "    best_val_loss = float(\"inf\")\n",
    "    patience_counter = 0\n",
    "    history = {\"train_loss\": [], \"val_loss\": []}\n",
    "    best_model_wts = model.state_dict()\n",
    "\n",
    "    for epoch in range(epochs):\n",
    "        # ---- Training ----\n",
    "        model.train()\n",
    "        running_loss = 0.0\n",
    "        for X_batch, y_batch in train_loader:\n",
    "            X_batch, y_batch = X_batch.to(device), y_batch.to(device)\n",
    "\n",
    "            optimizer.zero_grad()\n",
    "            outputs = model(X_batch)\n",
    "            loss = criterion(outputs, y_batch)\n",
    "            loss.backward()\n",
    "            optimizer.step()\n",
    "            running_loss += loss.item()\n",
    "\n",
    "        epoch_train_loss = running_loss / len(train_loader)\n",
    "\n",
    "        # ---- Validation ----\n",
    "        model.eval()\n",
    "        val_loss = 0.0\n",
    "        with torch.no_grad():\n",
    "            for X_batch, y_batch in val_loader:\n",
    "                X_batch, y_batch = X_batch.to(device), y_batch.to(device)\n",
    "                outputs = model(X_batch)\n",
    "                loss = criterion(outputs, y_batch)\n",
    "                val_loss += loss.item()\n",
    "\n",
    "        epoch_val_loss = val_loss / len(val_loader)\n",
    "\n",
    "        history[\"train_loss\"].append(epoch_train_loss)\n",
    "        history[\"val_loss\"].append(epoch_val_loss)\n",
    "\n",
    "        if scheduler:\n",
    "            scheduler.step(epoch_val_loss)\n",
    "\n",
    "        print(f\"Epoch [{epoch+1}/{epochs}] | Train Loss: {epoch_train_loss:.4f} | Val Loss: {epoch_val_loss:.4f}\")\n",
    "\n",
    "        # ---- Early Stopping ----\n",
    "        if epoch_val_loss < best_val_loss:\n",
    "            best_val_loss = epoch_val_loss\n",
    "            patience_counter = 0\n",
    "            best_model_wts = model.state_dict()\n",
    "        else:\n",
    "            patience_counter += 1\n",
    "            if patience_counter >= patience:\n",
    "                print(\"Early stopping triggered\")\n",
    "                break\n",
    "\n",
    "    model.load_state_dict(best_model_wts)\n",
    "    return model, history"
   ]
  },
  {
   "cell_type": "code",
   "execution_count": 100,
   "id": "7a493878",
   "metadata": {},
   "outputs": [
    {
     "name": "stdout",
     "output_type": "stream",
     "text": [
      "Epoch [1/50] | Train Loss: 0.6958 | Train Acc: 0.6972 | Val Loss: 0.7747 | Val Acc: 0.5558\n",
      "Epoch [5/50] | Train Loss: 0.3556 | Train Acc: 0.8567 | Val Loss: 0.3621 | Val Acc: 0.8286\n",
      "Epoch [5/50] | Train Loss: 0.3556 | Train Acc: 0.8567 | Val Loss: 0.3621 | Val Acc: 0.8286\n",
      "Epoch [10/50] | Train Loss: 0.3149 | Train Acc: 0.8760 | Val Loss: 1.4805 | Val Acc: 0.5077\n",
      "Epoch [10/50] | Train Loss: 0.3149 | Train Acc: 0.8760 | Val Loss: 1.4805 | Val Acc: 0.5077\n",
      "Epoch [15/50] | Train Loss: 0.2903 | Train Acc: 0.8927 | Val Loss: 0.8355 | Val Acc: 0.5106\n",
      "Early stopping triggered at epoch 15\n",
      "Best validation accuracy: 0.8556\n",
      "\n",
      "Training completed! Best validation accuracy: 0.8556\n",
      "Epoch [15/50] | Train Loss: 0.2903 | Train Acc: 0.8927 | Val Loss: 0.8355 | Val Acc: 0.5106\n",
      "Early stopping triggered at epoch 15\n",
      "Best validation accuracy: 0.8556\n",
      "\n",
      "Training completed! Best validation accuracy: 0.8556\n"
     ]
    }
   ],
   "source": [
    "model = train_model(model, train_loader, val_loader, criterion, optimizer, scheduler, epochs=50, patience=7)"
   ]
  },
  {
   "cell_type": "code",
   "execution_count": 102,
   "id": "3d416707",
   "metadata": {},
   "outputs": [
    {
     "name": "stdout",
     "output_type": "stream",
     "text": [
      "=== Model Performance ===\n",
      "Train - Loss: 0.8873, Accuracy: 0.5093\n",
      "Val   - Loss: 0.8735, Accuracy: 0.5106\n",
      "Test  - Loss: 0.8836, Accuracy: 0.5073\n"
     ]
    }
   ],
   "source": []
  }
 ],
 "metadata": {
  "kernelspec": {
   "display_name": "Python 3",
   "language": "python",
   "name": "python3"
  },
  "language_info": {
   "codemirror_mode": {
    "name": "ipython",
    "version": 3
   },
   "file_extension": ".py",
   "mimetype": "text/x-python",
   "name": "python",
   "nbconvert_exporter": "python",
   "pygments_lexer": "ipython3",
   "version": "3.12.8"
  }
 },
 "nbformat": 4,
 "nbformat_minor": 5
}
